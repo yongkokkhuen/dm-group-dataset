{
 "cells": [
  {
   "cell_type": "markdown",
   "metadata": {},
   "source": [
    "## Preparation"
   ]
  },
  {
   "cell_type": "markdown",
   "metadata": {},
   "source": [
    "In order to prepare dataset for group project and mid term test, our dataset must fulfill these criteria:\n",
    "1. **incomplete** - lacking attribute values, lacking certain attributes of interest, or containing only aggregate data\n",
    "2. **noisy** - containing noise, error, or outliers\n",
    "3. **inconsistent** - containing discrepancies in codes or names, or discrepancy between duplicate records\n",
    "4. **intentional** - disguised missing data"
   ]
  },
  {
   "cell_type": "markdown",
   "metadata": {},
   "source": [
    "### Imports"
   ]
  },
  {
   "cell_type": "code",
   "execution_count": 7,
   "metadata": {},
   "outputs": [],
   "source": [
    "import numpy as np\n",
    "import pandas as pd"
   ]
  },
  {
   "cell_type": "markdown",
   "metadata": {},
   "source": [
    "### Data Understanding"
   ]
  },
  {
   "cell_type": "markdown",
   "metadata": {},
   "source": [
    "#### Read Raw Data"
   ]
  },
  {
   "cell_type": "code",
   "execution_count": 2,
   "metadata": {},
   "outputs": [
    {
     "data": {
      "text/html": [
       "<div>\n",
       "<style scoped>\n",
       "    .dataframe tbody tr th:only-of-type {\n",
       "        vertical-align: middle;\n",
       "    }\n",
       "\n",
       "    .dataframe tbody tr th {\n",
       "        vertical-align: top;\n",
       "    }\n",
       "\n",
       "    .dataframe thead th {\n",
       "        text-align: right;\n",
       "    }\n",
       "</style>\n",
       "<table border=\"1\" class=\"dataframe\">\n",
       "  <thead>\n",
       "    <tr style=\"text-align: right;\">\n",
       "      <th></th>\n",
       "      <th>RANDID</th>\n",
       "      <th>SEX</th>\n",
       "      <th>TOTCHOL</th>\n",
       "      <th>AGE</th>\n",
       "      <th>SYSBP</th>\n",
       "      <th>DIABP</th>\n",
       "      <th>CURSMOKE</th>\n",
       "      <th>CIGPDAY</th>\n",
       "      <th>BMI</th>\n",
       "      <th>DIABETES</th>\n",
       "      <th>...</th>\n",
       "      <th>CVD</th>\n",
       "      <th>HYPERTEN</th>\n",
       "      <th>TIMEAP</th>\n",
       "      <th>TIMEMI</th>\n",
       "      <th>TIMEMIFC</th>\n",
       "      <th>TIMECHD</th>\n",
       "      <th>TIMESTRK</th>\n",
       "      <th>TIMECVD</th>\n",
       "      <th>TIMEDTH</th>\n",
       "      <th>TIMEHYP</th>\n",
       "    </tr>\n",
       "  </thead>\n",
       "  <tbody>\n",
       "    <tr>\n",
       "      <th>0</th>\n",
       "      <td>2448</td>\n",
       "      <td>1</td>\n",
       "      <td>195.0</td>\n",
       "      <td>39</td>\n",
       "      <td>106.0</td>\n",
       "      <td>70.0</td>\n",
       "      <td>No</td>\n",
       "      <td>0.0</td>\n",
       "      <td>26.97</td>\n",
       "      <td>No</td>\n",
       "      <td>...</td>\n",
       "      <td>1</td>\n",
       "      <td>0</td>\n",
       "      <td>8766</td>\n",
       "      <td>6438</td>\n",
       "      <td>6438</td>\n",
       "      <td>6438</td>\n",
       "      <td>8766</td>\n",
       "      <td>6438</td>\n",
       "      <td>8766</td>\n",
       "      <td>8766</td>\n",
       "    </tr>\n",
       "    <tr>\n",
       "      <th>1</th>\n",
       "      <td>2448</td>\n",
       "      <td>1</td>\n",
       "      <td>209.0</td>\n",
       "      <td>52</td>\n",
       "      <td>121.0</td>\n",
       "      <td>66.0</td>\n",
       "      <td>No</td>\n",
       "      <td>0.0</td>\n",
       "      <td>NaN</td>\n",
       "      <td>No</td>\n",
       "      <td>...</td>\n",
       "      <td>1</td>\n",
       "      <td>0</td>\n",
       "      <td>8766</td>\n",
       "      <td>6438</td>\n",
       "      <td>6438</td>\n",
       "      <td>6438</td>\n",
       "      <td>8766</td>\n",
       "      <td>6438</td>\n",
       "      <td>8766</td>\n",
       "      <td>8766</td>\n",
       "    </tr>\n",
       "    <tr>\n",
       "      <th>2</th>\n",
       "      <td>6238</td>\n",
       "      <td>2</td>\n",
       "      <td>250.0</td>\n",
       "      <td>46</td>\n",
       "      <td>121.0</td>\n",
       "      <td>81.0</td>\n",
       "      <td>No</td>\n",
       "      <td>0.0</td>\n",
       "      <td>28.73</td>\n",
       "      <td>No</td>\n",
       "      <td>...</td>\n",
       "      <td>0</td>\n",
       "      <td>0</td>\n",
       "      <td>8766</td>\n",
       "      <td>8766</td>\n",
       "      <td>8766</td>\n",
       "      <td>8766</td>\n",
       "      <td>8766</td>\n",
       "      <td>8766</td>\n",
       "      <td>8766</td>\n",
       "      <td>8766</td>\n",
       "    </tr>\n",
       "    <tr>\n",
       "      <th>3</th>\n",
       "      <td>6238</td>\n",
       "      <td>2</td>\n",
       "      <td>260.0</td>\n",
       "      <td>52</td>\n",
       "      <td>105.0</td>\n",
       "      <td>69.5</td>\n",
       "      <td>No</td>\n",
       "      <td>0.0</td>\n",
       "      <td>29.43</td>\n",
       "      <td>No</td>\n",
       "      <td>...</td>\n",
       "      <td>0</td>\n",
       "      <td>0</td>\n",
       "      <td>8766</td>\n",
       "      <td>8766</td>\n",
       "      <td>8766</td>\n",
       "      <td>8766</td>\n",
       "      <td>8766</td>\n",
       "      <td>8766</td>\n",
       "      <td>8766</td>\n",
       "      <td>8766</td>\n",
       "    </tr>\n",
       "    <tr>\n",
       "      <th>4</th>\n",
       "      <td>6238</td>\n",
       "      <td>2</td>\n",
       "      <td>237.0</td>\n",
       "      <td>58</td>\n",
       "      <td>108.0</td>\n",
       "      <td>66.0</td>\n",
       "      <td>No</td>\n",
       "      <td>0.0</td>\n",
       "      <td>28.50</td>\n",
       "      <td>No</td>\n",
       "      <td>...</td>\n",
       "      <td>0</td>\n",
       "      <td>0</td>\n",
       "      <td>8766</td>\n",
       "      <td>8766</td>\n",
       "      <td>8766</td>\n",
       "      <td>8766</td>\n",
       "      <td>8766</td>\n",
       "      <td>8766</td>\n",
       "      <td>8766</td>\n",
       "      <td>8766</td>\n",
       "    </tr>\n",
       "  </tbody>\n",
       "</table>\n",
       "<p>5 rows × 39 columns</p>\n",
       "</div>"
      ],
      "text/plain": [
       "   RANDID SEX  TOTCHOL  AGE  SYSBP  DIABP CURSMOKE  CIGPDAY    BMI DIABETES  \\\n",
       "0    2448   1    195.0   39  106.0   70.0       No      0.0  26.97       No   \n",
       "1    2448   1    209.0   52  121.0   66.0       No      0.0    NaN       No   \n",
       "2    6238   2    250.0   46  121.0   81.0       No      0.0  28.73       No   \n",
       "3    6238   2    260.0   52  105.0   69.5       No      0.0  29.43       No   \n",
       "4    6238   2    237.0   58  108.0   66.0       No      0.0  28.50       No   \n",
       "\n",
       "   ...  CVD  HYPERTEN  TIMEAP  TIMEMI  TIMEMIFC  TIMECHD  TIMESTRK  TIMECVD  \\\n",
       "0  ...    1         0    8766    6438      6438     6438      8766     6438   \n",
       "1  ...    1         0    8766    6438      6438     6438      8766     6438   \n",
       "2  ...    0         0    8766    8766      8766     8766      8766     8766   \n",
       "3  ...    0         0    8766    8766      8766     8766      8766     8766   \n",
       "4  ...    0         0    8766    8766      8766     8766      8766     8766   \n",
       "\n",
       "   TIMEDTH  TIMEHYP  \n",
       "0     8766     8766  \n",
       "1     8766     8766  \n",
       "2     8766     8766  \n",
       "3     8766     8766  \n",
       "4     8766     8766  \n",
       "\n",
       "[5 rows x 39 columns]"
      ]
     },
     "execution_count": 2,
     "metadata": {},
     "output_type": "execute_result"
    }
   ],
   "source": [
    "df = pd.read_csv(\"./data/frmgham2_dirty.csv\")\n",
    "df.head()"
   ]
  },
  {
   "cell_type": "markdown",
   "metadata": {},
   "source": [
    "#### Metadata"
   ]
  },
  {
   "cell_type": "markdown",
   "metadata": {},
   "source": [
    "Below is the full list of column metadata. However, for our project, we are only interested in **heart disease prediction using the given risk factors**. Hence, some of the columns that are related to other diseases or time information are not relevant."
   ]
  },
  {
   "cell_type": "markdown",
   "metadata": {},
   "source": [
    "Reference: [Framingham Heart Study Longitudinal Data Documentation](https://biolincc.nhlbi.nih.gov/media/teachingstudies/FHS_Teaching_Longitudinal_Data_Documentation_2021a.pdf)"
   ]
  },
  {
   "cell_type": "markdown",
   "metadata": {},
   "source": [
    "| Variable | Description                                                  | Remark                          |\n",
    "| -------- | ------------------------------------------------------------ | ------------------------------- |\n",
    "| RANDID   | Unique identification number for each participant            |                                 |\n",
    "| SEX      | Participant sex (1=Men, 2=Women)                             |                                 |\n",
    "| PERIOD   | Examination Cycle (1=Period 1, 2=Period 2, 3=Period 3)       |                                 |\n",
    "| TIME     | Number of days since baseline exam                           | Not relevant to current project |\n",
    "| AGE      | Age at exam (years)                                          |                                 |\n",
    "| SYSBP    | Systolic Blood Pressure (mean of last two of three measurements) (mmHg) |                                 |\n",
    "| DIABP    | Diastolic Blood Pressure (mean of last two of three measurements) (mmHg) |                                 |\n",
    "| BPMEDS   | Use of Anti-hypertensive medication at exam (0=Not currently used, 1=Current Use) |                                 |\n",
    "| CURSMOKE | Current cigarette smoking at exam (0=Not current smoker, 1=Current smoker) |                                 |\n",
    "| CIGPDAY  | Number of cigarettes smoked each day (0=Not current smoker, 1-90 cigarettes per day) |                                 |\n",
    "| educ     | Attained Education (1=0-11 years, 2=High School Diploma, GED, 3=Some College, Vocational School, 4=College (BS, BA) degree or more) |                                 |\n",
    "| TOTCHOL  | Serum Total Cholesterol (mg/dL)                              |                                 |\n",
    "| HDLC     | High Density Lipoprotein Cholesterol (mg/dL) - available for period 3 only |                                 |\n",
    "| LDLC     | Low Density Lipoprotein Cholesterol (mg/dL) - available for period 3 only |                                 |\n",
    "| BMI      | Body Mass Index, weight in kilograms/height meters squared   |                                 |\n",
    "| GLUCOSE  | Casual serum glucose (mg/dL)                                 |                                 |\n",
    "| DIABETES | Diabetic according to criteria of first exam treated or first exam with casual glucose of 200 mg/dL or more (0=Not a diabetic, 1=Diabetic) |                                 |\n",
    "| HEARTRTE | Heart rate (Ventricular rate) in beats/min                   |                                 |\n",
    "| PREVAP   | Prevalent Angina Pectoris at exam (0=Free of disease, 1=Prevalent disease) |                                 |\n",
    "| PREVCHD  | Prevalent Coronary Heart Disease defined as pre-existing Angina Pectoris, Myocardial Infarction (hospitalized, silent or unrecognized), or Coronary Insufficiency (unstable angina) (0=Free of disease, 1=Prevalent disease) |                                 |\n",
    "| PREVMI   | Prevalent Myocardial Infarction (0=Free of disease, 1=Prevalent disease) |                                 |\n",
    "| PREVSTRK | Prevalent Stroke (0=Free of disease, 1=Prevalent disease)    |                                 |\n",
    "| PREVHYP  | Prevalent Hypertensive. Subject was defined as hypertensive if treated or if second exam at which mean systolic was >=140 mmHg or mean Diastolic >=90 mmHg (0=Free of disease, 1=Prevalent disease) |                                 |\n",
    "| ANGINA   | Angina Pectoris                                              | Not relevant to current project |\n",
    "| HOSPMI   | Hospitalized Myocardial Infarction                           | Not relevant to current project |\n",
    "| MI_FCHD  | Hospitalized Myocardial Infarction or Fatal Coronary Heart Disease | Not relevant to current project |\n",
    "| ANYCHD   | Angina Pectoris, Myocardial infarction (Hospitalized and silent or unrecognized), Coronary Insufficiency (Unstable Angina), or Fatal Coronary Heart Disease |                                 |\n",
    "| STROKE   | Atherothrombotic infarction, Cerebral Embolism, Intracerebral Hemorrhage, or Subarachnoid Hemorrhage or Fatal Cerebrovascular Disease | Not relevant to current project |\n",
    "| CVD      | Myocardial infarction (Hospitalized and silent or unrecognized), Fatal Coronary Heart Disease, Atherothrombotic infarction, Cerebral Embolism, Intracerebral Hemorrhage, or Subarachnoid Hemorrhage or Fatal Cerebrovascular Disease | Not relevant to current project |\n",
    "| HYPERTEN | Hypertensive. Defined as the first exam treated for high blood pressure or second exam in which either Systolic is $ 140 mmHg or Diastolic $ 90mmHg | Not relevant to current project |\n",
    "| DEATH    | Death from any cause                                         | Not relevant to current project |\n",
    "| TIMEAP   | Number of days from Baseline exam to first Angina during the followup or Number of days from Baseline to censor date. Censor date may be end of followup, death or last known contact date if subject is lost to followup | Not relevant to current project |\n",
    "| TIMEMI   | Defined as above for the first HOSPMI event during followup  | Not relevant to current project |\n",
    "| TIMEMIFC | Defined as above for the first MI_FCHD event during followup | Not relevant to current project |\n",
    "| TIMECHD  | Defined as above for the first ANYCHD event during followup  | Not relevant to current project |\n",
    "| TIMESTRK | Defined as above for the first STROKE event during followup  | Not relevant to current project |\n",
    "| TIMECVD  | Defined as above for the first CVD event during followup     | Not relevant to current project |\n",
    "| TIMEHYP  | Defined as above for the first HYPERTEN event during followup | Not relevant to current project |\n",
    "| TIMEDTH  | Number of days from Baseline exam to death if occurring during followup or Number of days from Baseline to censor date. Censor date may be end of followup, or last known contact date if subject is lost to followup | Not relevant to current project |\n",
    "\n"
   ]
  },
  {
   "cell_type": "markdown",
   "metadata": {},
   "source": [
    "#### Check Info"
   ]
  },
  {
   "cell_type": "code",
   "execution_count": 6,
   "metadata": {},
   "outputs": [
    {
     "name": "stdout",
     "output_type": "stream",
     "text": [
      "<class 'pandas.core.frame.DataFrame'>\n",
      "RangeIndex: 11632 entries, 0 to 11631\n",
      "Data columns (total 39 columns):\n",
      " #   Column    Non-Null Count  Dtype  \n",
      "---  ------    --------------  -----  \n",
      " 0   RANDID    11632 non-null  int64  \n",
      " 1   SEX       11632 non-null  object \n",
      " 2   TOTCHOL   11223 non-null  float64\n",
      " 3   AGE       11632 non-null  int64  \n",
      " 4   SYSBP     11632 non-null  float64\n",
      " 5   DIABP     11632 non-null  float64\n",
      " 6   CURSMOKE  11632 non-null  object \n",
      " 7   CIGPDAY   11553 non-null  float64\n",
      " 8   BMI       11580 non-null  float64\n",
      " 9   DIABETES  11632 non-null  object \n",
      " 10  BPMEDS    11039 non-null  float64\n",
      " 11  HEARTRTE  11626 non-null  float64\n",
      " 12  GLUCOSE   10191 non-null  float64\n",
      " 13  educ      11337 non-null  float64\n",
      " 14  PREVCHD   11632 non-null  int64  \n",
      " 15  PREVAP    11632 non-null  int64  \n",
      " 16  PREVMI    11632 non-null  int64  \n",
      " 17  PREVSTRK  11632 non-null  int64  \n",
      " 18  PREVHYP   11632 non-null  int64  \n",
      " 19  TIME      11632 non-null  int64  \n",
      " 20  PERIOD    11632 non-null  int64  \n",
      " 21  HDLC      3029 non-null   float64\n",
      " 22  LDLC      3028 non-null   float64\n",
      " 23  DEATH     11632 non-null  int64  \n",
      " 24  ANGINA    11632 non-null  int64  \n",
      " 25  HOSPMI    11632 non-null  int64  \n",
      " 26  MI_FCHD   11632 non-null  int64  \n",
      " 27  ANYCHD    11632 non-null  object \n",
      " 28  STROKE    11632 non-null  int64  \n",
      " 29  CVD       11632 non-null  int64  \n",
      " 30  HYPERTEN  11632 non-null  int64  \n",
      " 31  TIMEAP    11632 non-null  int64  \n",
      " 32  TIMEMI    11632 non-null  int64  \n",
      " 33  TIMEMIFC  11632 non-null  int64  \n",
      " 34  TIMECHD   11632 non-null  int64  \n",
      " 35  TIMESTRK  11632 non-null  int64  \n",
      " 36  TIMECVD   11632 non-null  int64  \n",
      " 37  TIMEDTH   11632 non-null  int64  \n",
      " 38  TIMEHYP   11632 non-null  int64  \n",
      "dtypes: float64(11), int64(24), object(4)\n",
      "memory usage: 3.5+ MB\n"
     ]
    }
   ],
   "source": [
    "df.info()"
   ]
  },
  {
   "cell_type": "markdown",
   "metadata": {},
   "source": [
    "#### Check Descriptive Summary"
   ]
  },
  {
   "cell_type": "code",
   "execution_count": 3,
   "metadata": {},
   "outputs": [
    {
     "data": {
      "text/html": [
       "<div>\n",
       "<style scoped>\n",
       "    .dataframe tbody tr th:only-of-type {\n",
       "        vertical-align: middle;\n",
       "    }\n",
       "\n",
       "    .dataframe tbody tr th {\n",
       "        vertical-align: top;\n",
       "    }\n",
       "\n",
       "    .dataframe thead th {\n",
       "        text-align: right;\n",
       "    }\n",
       "</style>\n",
       "<table border=\"1\" class=\"dataframe\">\n",
       "  <thead>\n",
       "    <tr style=\"text-align: right;\">\n",
       "      <th></th>\n",
       "      <th>RANDID</th>\n",
       "      <th>TOTCHOL</th>\n",
       "      <th>AGE</th>\n",
       "      <th>SYSBP</th>\n",
       "      <th>DIABP</th>\n",
       "      <th>CIGPDAY</th>\n",
       "      <th>BMI</th>\n",
       "      <th>BPMEDS</th>\n",
       "      <th>HEARTRTE</th>\n",
       "      <th>GLUCOSE</th>\n",
       "      <th>...</th>\n",
       "      <th>CVD</th>\n",
       "      <th>HYPERTEN</th>\n",
       "      <th>TIMEAP</th>\n",
       "      <th>TIMEMI</th>\n",
       "      <th>TIMEMIFC</th>\n",
       "      <th>TIMECHD</th>\n",
       "      <th>TIMESTRK</th>\n",
       "      <th>TIMECVD</th>\n",
       "      <th>TIMEDTH</th>\n",
       "      <th>TIMEHYP</th>\n",
       "    </tr>\n",
       "  </thead>\n",
       "  <tbody>\n",
       "    <tr>\n",
       "      <th>count</th>\n",
       "      <td>1.163200e+04</td>\n",
       "      <td>11223.000000</td>\n",
       "      <td>11632.000000</td>\n",
       "      <td>11632.000000</td>\n",
       "      <td>11632.000000</td>\n",
       "      <td>11553.000000</td>\n",
       "      <td>11580.000000</td>\n",
       "      <td>11039.000000</td>\n",
       "      <td>11626.000000</td>\n",
       "      <td>10191.000000</td>\n",
       "      <td>...</td>\n",
       "      <td>11632.000000</td>\n",
       "      <td>11632.000000</td>\n",
       "      <td>11632.000000</td>\n",
       "      <td>11632.00000</td>\n",
       "      <td>11632.000000</td>\n",
       "      <td>11632.000000</td>\n",
       "      <td>11632.000000</td>\n",
       "      <td>11632.000000</td>\n",
       "      <td>11632.000000</td>\n",
       "      <td>11632.000000</td>\n",
       "    </tr>\n",
       "    <tr>\n",
       "      <th>mean</th>\n",
       "      <td>5.003767e+06</td>\n",
       "      <td>241.155128</td>\n",
       "      <td>54.794876</td>\n",
       "      <td>136.323117</td>\n",
       "      <td>83.036752</td>\n",
       "      <td>8.246776</td>\n",
       "      <td>25.877547</td>\n",
       "      <td>0.085606</td>\n",
       "      <td>76.781094</td>\n",
       "      <td>84.120891</td>\n",
       "      <td>...</td>\n",
       "      <td>0.249312</td>\n",
       "      <td>0.743294</td>\n",
       "      <td>7241.923573</td>\n",
       "      <td>7594.14804</td>\n",
       "      <td>7543.359869</td>\n",
       "      <td>7008.620616</td>\n",
       "      <td>7661.152510</td>\n",
       "      <td>7166.482118</td>\n",
       "      <td>7854.292383</td>\n",
       "      <td>3599.036107</td>\n",
       "    </tr>\n",
       "    <tr>\n",
       "      <th>std</th>\n",
       "      <td>2.900745e+06</td>\n",
       "      <td>45.364614</td>\n",
       "      <td>9.564961</td>\n",
       "      <td>22.796155</td>\n",
       "      <td>11.658630</td>\n",
       "      <td>12.185459</td>\n",
       "      <td>4.102909</td>\n",
       "      <td>0.279793</td>\n",
       "      <td>12.462471</td>\n",
       "      <td>24.990964</td>\n",
       "      <td>...</td>\n",
       "      <td>0.432633</td>\n",
       "      <td>0.436834</td>\n",
       "      <td>2477.385078</td>\n",
       "      <td>2136.40973</td>\n",
       "      <td>2191.791579</td>\n",
       "      <td>2640.942721</td>\n",
       "      <td>2010.782656</td>\n",
       "      <td>2541.267718</td>\n",
       "      <td>1788.115282</td>\n",
       "      <td>3464.022521</td>\n",
       "    </tr>\n",
       "    <tr>\n",
       "      <th>min</th>\n",
       "      <td>2.448000e+03</td>\n",
       "      <td>107.000000</td>\n",
       "      <td>32.000000</td>\n",
       "      <td>83.500000</td>\n",
       "      <td>30.000000</td>\n",
       "      <td>0.000000</td>\n",
       "      <td>14.430000</td>\n",
       "      <td>0.000000</td>\n",
       "      <td>37.000000</td>\n",
       "      <td>39.000000</td>\n",
       "      <td>...</td>\n",
       "      <td>0.000000</td>\n",
       "      <td>0.000000</td>\n",
       "      <td>0.000000</td>\n",
       "      <td>0.00000</td>\n",
       "      <td>0.000000</td>\n",
       "      <td>0.000000</td>\n",
       "      <td>0.000000</td>\n",
       "      <td>0.000000</td>\n",
       "      <td>26.000000</td>\n",
       "      <td>0.000000</td>\n",
       "    </tr>\n",
       "    <tr>\n",
       "      <th>25%</th>\n",
       "      <td>2.473562e+06</td>\n",
       "      <td>210.000000</td>\n",
       "      <td>48.000000</td>\n",
       "      <td>120.000000</td>\n",
       "      <td>75.000000</td>\n",
       "      <td>0.000000</td>\n",
       "      <td>23.090000</td>\n",
       "      <td>0.000000</td>\n",
       "      <td>69.000000</td>\n",
       "      <td>72.000000</td>\n",
       "      <td>...</td>\n",
       "      <td>0.000000</td>\n",
       "      <td>0.000000</td>\n",
       "      <td>6233.000000</td>\n",
       "      <td>7212.00000</td>\n",
       "      <td>7049.750000</td>\n",
       "      <td>5600.000000</td>\n",
       "      <td>7295.500000</td>\n",
       "      <td>6006.750000</td>\n",
       "      <td>7798.250000</td>\n",
       "      <td>0.000000</td>\n",
       "    </tr>\n",
       "    <tr>\n",
       "      <th>50%</th>\n",
       "      <td>5.005051e+06</td>\n",
       "      <td>238.000000</td>\n",
       "      <td>54.000000</td>\n",
       "      <td>132.000000</td>\n",
       "      <td>82.000000</td>\n",
       "      <td>0.000000</td>\n",
       "      <td>25.480000</td>\n",
       "      <td>0.000000</td>\n",
       "      <td>75.000000</td>\n",
       "      <td>80.000000</td>\n",
       "      <td>...</td>\n",
       "      <td>0.000000</td>\n",
       "      <td>1.000000</td>\n",
       "      <td>8766.000000</td>\n",
       "      <td>8766.00000</td>\n",
       "      <td>8766.000000</td>\n",
       "      <td>8766.000000</td>\n",
       "      <td>8766.000000</td>\n",
       "      <td>8766.000000</td>\n",
       "      <td>8766.000000</td>\n",
       "      <td>2429.000000</td>\n",
       "    </tr>\n",
       "    <tr>\n",
       "      <th>75%</th>\n",
       "      <td>7.471636e+06</td>\n",
       "      <td>268.000000</td>\n",
       "      <td>62.000000</td>\n",
       "      <td>149.000000</td>\n",
       "      <td>90.000000</td>\n",
       "      <td>20.000000</td>\n",
       "      <td>28.070000</td>\n",
       "      <td>0.000000</td>\n",
       "      <td>85.000000</td>\n",
       "      <td>89.000000</td>\n",
       "      <td>...</td>\n",
       "      <td>0.000000</td>\n",
       "      <td>1.000000</td>\n",
       "      <td>8766.000000</td>\n",
       "      <td>8766.00000</td>\n",
       "      <td>8766.000000</td>\n",
       "      <td>8766.000000</td>\n",
       "      <td>8766.000000</td>\n",
       "      <td>8766.000000</td>\n",
       "      <td>8766.000000</td>\n",
       "      <td>7329.000000</td>\n",
       "    </tr>\n",
       "    <tr>\n",
       "      <th>max</th>\n",
       "      <td>9.999312e+06</td>\n",
       "      <td>696.000000</td>\n",
       "      <td>81.000000</td>\n",
       "      <td>295.000000</td>\n",
       "      <td>150.000000</td>\n",
       "      <td>90.000000</td>\n",
       "      <td>56.800000</td>\n",
       "      <td>1.000000</td>\n",
       "      <td>220.000000</td>\n",
       "      <td>478.000000</td>\n",
       "      <td>...</td>\n",
       "      <td>1.000000</td>\n",
       "      <td>1.000000</td>\n",
       "      <td>8766.000000</td>\n",
       "      <td>8766.00000</td>\n",
       "      <td>8766.000000</td>\n",
       "      <td>8766.000000</td>\n",
       "      <td>8766.000000</td>\n",
       "      <td>8766.000000</td>\n",
       "      <td>8766.000000</td>\n",
       "      <td>8766.000000</td>\n",
       "    </tr>\n",
       "  </tbody>\n",
       "</table>\n",
       "<p>8 rows × 35 columns</p>\n",
       "</div>"
      ],
      "text/plain": [
       "             RANDID       TOTCHOL           AGE         SYSBP         DIABP  \\\n",
       "count  1.163200e+04  11223.000000  11632.000000  11632.000000  11632.000000   \n",
       "mean   5.003767e+06    241.155128     54.794876    136.323117     83.036752   \n",
       "std    2.900745e+06     45.364614      9.564961     22.796155     11.658630   \n",
       "min    2.448000e+03    107.000000     32.000000     83.500000     30.000000   \n",
       "25%    2.473562e+06    210.000000     48.000000    120.000000     75.000000   \n",
       "50%    5.005051e+06    238.000000     54.000000    132.000000     82.000000   \n",
       "75%    7.471636e+06    268.000000     62.000000    149.000000     90.000000   \n",
       "max    9.999312e+06    696.000000     81.000000    295.000000    150.000000   \n",
       "\n",
       "            CIGPDAY           BMI        BPMEDS      HEARTRTE       GLUCOSE  \\\n",
       "count  11553.000000  11580.000000  11039.000000  11626.000000  10191.000000   \n",
       "mean       8.246776     25.877547      0.085606     76.781094     84.120891   \n",
       "std       12.185459      4.102909      0.279793     12.462471     24.990964   \n",
       "min        0.000000     14.430000      0.000000     37.000000     39.000000   \n",
       "25%        0.000000     23.090000      0.000000     69.000000     72.000000   \n",
       "50%        0.000000     25.480000      0.000000     75.000000     80.000000   \n",
       "75%       20.000000     28.070000      0.000000     85.000000     89.000000   \n",
       "max       90.000000     56.800000      1.000000    220.000000    478.000000   \n",
       "\n",
       "       ...           CVD      HYPERTEN        TIMEAP       TIMEMI  \\\n",
       "count  ...  11632.000000  11632.000000  11632.000000  11632.00000   \n",
       "mean   ...      0.249312      0.743294   7241.923573   7594.14804   \n",
       "std    ...      0.432633      0.436834   2477.385078   2136.40973   \n",
       "min    ...      0.000000      0.000000      0.000000      0.00000   \n",
       "25%    ...      0.000000      0.000000   6233.000000   7212.00000   \n",
       "50%    ...      0.000000      1.000000   8766.000000   8766.00000   \n",
       "75%    ...      0.000000      1.000000   8766.000000   8766.00000   \n",
       "max    ...      1.000000      1.000000   8766.000000   8766.00000   \n",
       "\n",
       "           TIMEMIFC       TIMECHD      TIMESTRK       TIMECVD       TIMEDTH  \\\n",
       "count  11632.000000  11632.000000  11632.000000  11632.000000  11632.000000   \n",
       "mean    7543.359869   7008.620616   7661.152510   7166.482118   7854.292383   \n",
       "std     2191.791579   2640.942721   2010.782656   2541.267718   1788.115282   \n",
       "min        0.000000      0.000000      0.000000      0.000000     26.000000   \n",
       "25%     7049.750000   5600.000000   7295.500000   6006.750000   7798.250000   \n",
       "50%     8766.000000   8766.000000   8766.000000   8766.000000   8766.000000   \n",
       "75%     8766.000000   8766.000000   8766.000000   8766.000000   8766.000000   \n",
       "max     8766.000000   8766.000000   8766.000000   8766.000000   8766.000000   \n",
       "\n",
       "            TIMEHYP  \n",
       "count  11632.000000  \n",
       "mean    3599.036107  \n",
       "std     3464.022521  \n",
       "min        0.000000  \n",
       "25%        0.000000  \n",
       "50%     2429.000000  \n",
       "75%     7329.000000  \n",
       "max     8766.000000  \n",
       "\n",
       "[8 rows x 35 columns]"
      ]
     },
     "execution_count": 3,
     "metadata": {},
     "output_type": "execute_result"
    }
   ],
   "source": [
    "df.describe()"
   ]
  },
  {
   "cell_type": "markdown",
   "metadata": {},
   "source": [
    "#### Check Missing Values"
   ]
  },
  {
   "cell_type": "code",
   "execution_count": 10,
   "metadata": {},
   "outputs": [
    {
     "data": {
      "text/plain": [
       "LDLC        8604\n",
       "HDLC        8603\n",
       "GLUCOSE     1441\n",
       "BPMEDS       593\n",
       "TOTCHOL      409\n",
       "educ         295\n",
       "CIGPDAY       79\n",
       "BMI           52\n",
       "HEARTRTE       6\n",
       "TIMEAP         0\n",
       "MI_FCHD        0\n",
       "ANYCHD         0\n",
       "STROKE         0\n",
       "CVD            0\n",
       "HYPERTEN       0\n",
       "RANDID         0\n",
       "TIMEMI         0\n",
       "ANGINA         0\n",
       "TIMEMIFC       0\n",
       "TIMECHD        0\n",
       "TIMESTRK       0\n",
       "TIMECVD        0\n",
       "TIMEDTH        0\n",
       "HOSPMI         0\n",
       "TIME           0\n",
       "DEATH          0\n",
       "PERIOD         0\n",
       "SEX            0\n",
       "PREVHYP        0\n",
       "PREVSTRK       0\n",
       "PREVMI         0\n",
       "PREVAP         0\n",
       "PREVCHD        0\n",
       "DIABETES       0\n",
       "CURSMOKE       0\n",
       "DIABP          0\n",
       "SYSBP          0\n",
       "AGE            0\n",
       "TIMEHYP        0\n",
       "dtype: int64"
      ]
     },
     "execution_count": 10,
     "metadata": {},
     "output_type": "execute_result"
    }
   ],
   "source": [
    "df.isna().sum().sort_values(ascending=False)"
   ]
  },
  {
   "cell_type": "markdown",
   "metadata": {},
   "source": [
    "##### LDLC"
   ]
  },
  {
   "cell_type": "code",
   "execution_count": 11,
   "metadata": {},
   "outputs": [
    {
     "data": {
      "text/plain": [
       "count    3028.000000\n",
       "mean      176.452774\n",
       "std        46.859793\n",
       "min        20.000000\n",
       "25%       145.000000\n",
       "50%       173.000000\n",
       "75%       205.000000\n",
       "max       565.000000\n",
       "Name: LDLC, dtype: float64"
      ]
     },
     "execution_count": 11,
     "metadata": {},
     "output_type": "execute_result"
    }
   ],
   "source": [
    "df[\"LDLC\"].describe()"
   ]
  },
  {
   "cell_type": "code",
   "execution_count": 13,
   "metadata": {},
   "outputs": [
    {
     "data": {
      "text/plain": [
       "8604"
      ]
     },
     "execution_count": 13,
     "metadata": {},
     "output_type": "execute_result"
    }
   ],
   "source": [
    "df[\"LDLC\"].isna().sum()"
   ]
  },
  {
   "cell_type": "markdown",
   "metadata": {},
   "source": [
    "Based on the metadata description, the data for `LDLC` only available for period 3. Hence, we will have missing values."
   ]
  },
  {
   "cell_type": "markdown",
   "metadata": {},
   "source": [
    "##### HDLC"
   ]
  },
  {
   "cell_type": "code",
   "execution_count": 14,
   "metadata": {},
   "outputs": [
    {
     "data": {
      "text/plain": [
       "count    3029.000000\n",
       "mean       49.363156\n",
       "std        15.622978\n",
       "min        10.000000\n",
       "25%        39.000000\n",
       "50%        48.000000\n",
       "75%        58.000000\n",
       "max       189.000000\n",
       "Name: HDLC, dtype: float64"
      ]
     },
     "execution_count": 14,
     "metadata": {},
     "output_type": "execute_result"
    }
   ],
   "source": [
    "df[\"HDLC\"].describe()"
   ]
  },
  {
   "cell_type": "code",
   "execution_count": 15,
   "metadata": {},
   "outputs": [
    {
     "data": {
      "text/plain": [
       "8603"
      ]
     },
     "execution_count": 15,
     "metadata": {},
     "output_type": "execute_result"
    }
   ],
   "source": [
    "df[\"HDLC\"].isna().sum()"
   ]
  },
  {
   "cell_type": "markdown",
   "metadata": {},
   "source": [
    "Based on the metadata description, the data for `HDLC` only available for period 3. Hence, we will have missing values."
   ]
  },
  {
   "cell_type": "markdown",
   "metadata": {},
   "source": [
    "##### GLUCOSE"
   ]
  },
  {
   "cell_type": "code",
   "execution_count": 16,
   "metadata": {},
   "outputs": [
    {
     "data": {
      "text/plain": [
       "count    10191.000000\n",
       "mean        84.120891\n",
       "std         24.990964\n",
       "min         39.000000\n",
       "25%         72.000000\n",
       "50%         80.000000\n",
       "75%         89.000000\n",
       "max        478.000000\n",
       "Name: GLUCOSE, dtype: float64"
      ]
     },
     "execution_count": 16,
     "metadata": {},
     "output_type": "execute_result"
    }
   ],
   "source": [
    "df[\"GLUCOSE\"].describe()"
   ]
  },
  {
   "cell_type": "code",
   "execution_count": 17,
   "metadata": {},
   "outputs": [
    {
     "data": {
      "text/plain": [
       "1441"
      ]
     },
     "execution_count": 17,
     "metadata": {},
     "output_type": "execute_result"
    }
   ],
   "source": [
    "df[\"GLUCOSE\"].isna().sum()"
   ]
  },
  {
   "cell_type": "markdown",
   "metadata": {},
   "source": [
    "We found missing values in `GLUCOSE` column."
   ]
  },
  {
   "cell_type": "markdown",
   "metadata": {},
   "source": [
    "##### BPMEDS"
   ]
  },
  {
   "cell_type": "code",
   "execution_count": 18,
   "metadata": {},
   "outputs": [
    {
     "data": {
      "text/plain": [
       "0.0    10094\n",
       "1.0      945\n",
       "Name: BPMEDS, dtype: int64"
      ]
     },
     "execution_count": 18,
     "metadata": {},
     "output_type": "execute_result"
    }
   ],
   "source": [
    "df[\"BPMEDS\"].value_counts()"
   ]
  },
  {
   "cell_type": "code",
   "execution_count": 19,
   "metadata": {},
   "outputs": [
    {
     "data": {
      "text/plain": [
       "593"
      ]
     },
     "execution_count": 19,
     "metadata": {},
     "output_type": "execute_result"
    }
   ],
   "source": [
    "df[\"BPMEDS\"].isna().sum()"
   ]
  },
  {
   "cell_type": "markdown",
   "metadata": {},
   "source": [
    "We found missing values in `BPMEDS` column."
   ]
  },
  {
   "cell_type": "markdown",
   "metadata": {},
   "source": [
    "##### TOTCHOL"
   ]
  },
  {
   "cell_type": "code",
   "execution_count": 20,
   "metadata": {},
   "outputs": [
    {
     "data": {
      "text/plain": [
       "count    11223.000000\n",
       "mean       241.155128\n",
       "std         45.364614\n",
       "min        107.000000\n",
       "25%        210.000000\n",
       "50%        238.000000\n",
       "75%        268.000000\n",
       "max        696.000000\n",
       "Name: TOTCHOL, dtype: float64"
      ]
     },
     "execution_count": 20,
     "metadata": {},
     "output_type": "execute_result"
    }
   ],
   "source": [
    "df[\"TOTCHOL\"].describe()"
   ]
  },
  {
   "cell_type": "code",
   "execution_count": 21,
   "metadata": {},
   "outputs": [
    {
     "data": {
      "text/plain": [
       "409"
      ]
     },
     "execution_count": 21,
     "metadata": {},
     "output_type": "execute_result"
    }
   ],
   "source": [
    "df[\"TOTCHOL\"].isna().sum()"
   ]
  },
  {
   "cell_type": "markdown",
   "metadata": {},
   "source": [
    "We found missing values in `TOTCHOL` column."
   ]
  },
  {
   "cell_type": "markdown",
   "metadata": {},
   "source": [
    "##### educ"
   ]
  },
  {
   "cell_type": "code",
   "execution_count": 22,
   "metadata": {},
   "outputs": [
    {
     "data": {
      "text/plain": [
       "1.0    4694\n",
       "2.0    3410\n",
       "3.0    1886\n",
       "4.0    1347\n",
       "Name: educ, dtype: int64"
      ]
     },
     "execution_count": 22,
     "metadata": {},
     "output_type": "execute_result"
    }
   ],
   "source": [
    "df[\"educ\"].value_counts()"
   ]
  },
  {
   "cell_type": "code",
   "execution_count": 23,
   "metadata": {},
   "outputs": [
    {
     "data": {
      "text/plain": [
       "295"
      ]
     },
     "execution_count": 23,
     "metadata": {},
     "output_type": "execute_result"
    }
   ],
   "source": [
    "df[\"educ\"].isna().sum()"
   ]
  },
  {
   "cell_type": "markdown",
   "metadata": {},
   "source": [
    "We found missing value in `educ` column."
   ]
  },
  {
   "cell_type": "markdown",
   "metadata": {},
   "source": [
    "##### CIGPDAY"
   ]
  },
  {
   "cell_type": "code",
   "execution_count": 27,
   "metadata": {},
   "outputs": [
    {
     "data": {
      "text/plain": [
       "count    11553.000000\n",
       "mean         8.246776\n",
       "std         12.185459\n",
       "min          0.000000\n",
       "25%          0.000000\n",
       "50%          0.000000\n",
       "75%         20.000000\n",
       "max         90.000000\n",
       "Name: CIGPDAY, dtype: float64"
      ]
     },
     "execution_count": 27,
     "metadata": {},
     "output_type": "execute_result"
    }
   ],
   "source": [
    "df[\"CIGPDAY\"].describe()"
   ]
  },
  {
   "cell_type": "code",
   "execution_count": 28,
   "metadata": {},
   "outputs": [
    {
     "data": {
      "text/plain": [
       "79"
      ]
     },
     "execution_count": 28,
     "metadata": {},
     "output_type": "execute_result"
    }
   ],
   "source": [
    "df[\"CIGPDAY\"].isna().sum()"
   ]
  },
  {
   "cell_type": "markdown",
   "metadata": {},
   "source": [
    "We found missing values in `CIGPDAY` column."
   ]
  },
  {
   "cell_type": "markdown",
   "metadata": {},
   "source": [
    "##### BMI"
   ]
  },
  {
   "cell_type": "code",
   "execution_count": 29,
   "metadata": {},
   "outputs": [
    {
     "data": {
      "text/plain": [
       "count    11580.000000\n",
       "mean        25.877547\n",
       "std          4.102909\n",
       "min         14.430000\n",
       "25%         23.090000\n",
       "50%         25.480000\n",
       "75%         28.070000\n",
       "max         56.800000\n",
       "Name: BMI, dtype: float64"
      ]
     },
     "execution_count": 29,
     "metadata": {},
     "output_type": "execute_result"
    }
   ],
   "source": [
    "df[\"BMI\"].describe()"
   ]
  },
  {
   "cell_type": "code",
   "execution_count": 30,
   "metadata": {},
   "outputs": [
    {
     "data": {
      "text/plain": [
       "52"
      ]
     },
     "execution_count": 30,
     "metadata": {},
     "output_type": "execute_result"
    }
   ],
   "source": [
    "df[\"BMI\"].isna().sum()"
   ]
  },
  {
   "cell_type": "markdown",
   "metadata": {},
   "source": [
    "We found missing values in `BMI` column."
   ]
  },
  {
   "cell_type": "markdown",
   "metadata": {},
   "source": [
    "##### HEARTRTE"
   ]
  },
  {
   "cell_type": "code",
   "execution_count": 32,
   "metadata": {},
   "outputs": [
    {
     "data": {
      "text/plain": [
       "count    11626.000000\n",
       "mean        76.781094\n",
       "std         12.462471\n",
       "min         37.000000\n",
       "25%         69.000000\n",
       "50%         75.000000\n",
       "75%         85.000000\n",
       "max        220.000000\n",
       "Name: HEARTRTE, dtype: float64"
      ]
     },
     "execution_count": 32,
     "metadata": {},
     "output_type": "execute_result"
    }
   ],
   "source": [
    "df[\"HEARTRTE\"].describe()"
   ]
  },
  {
   "cell_type": "code",
   "execution_count": 33,
   "metadata": {},
   "outputs": [
    {
     "data": {
      "text/plain": [
       "6"
      ]
     },
     "execution_count": 33,
     "metadata": {},
     "output_type": "execute_result"
    }
   ],
   "source": [
    "df[\"HEARTRTE\"].isna().sum()"
   ]
  },
  {
   "cell_type": "markdown",
   "metadata": {},
   "source": [
    "We found missing values in `HEARTRTE` column."
   ]
  },
  {
   "cell_type": "markdown",
   "metadata": {},
   "source": [
    "##### SEX"
   ]
  },
  {
   "cell_type": "code",
   "execution_count": 34,
   "metadata": {},
   "outputs": [
    {
     "data": {
      "text/plain": [
       "2         6595\n",
       "1         5007\n",
       "Female      10\n",
       "M            9\n",
       "Male         6\n",
       "F            5\n",
       "Name: SEX, dtype: int64"
      ]
     },
     "execution_count": 34,
     "metadata": {},
     "output_type": "execute_result"
    }
   ],
   "source": [
    "df[\"SEX\"].value_counts()"
   ]
  },
  {
   "cell_type": "markdown",
   "metadata": {},
   "source": [
    "We found inconsistent data in `SEX` column."
   ]
  },
  {
   "cell_type": "markdown",
   "metadata": {},
   "source": [
    "##### PERIOD"
   ]
  },
  {
   "cell_type": "code",
   "execution_count": 35,
   "metadata": {},
   "outputs": [
    {
     "data": {
      "text/plain": [
       "1    4435\n",
       "2    3932\n",
       "3    3265\n",
       "Name: PERIOD, dtype: int64"
      ]
     },
     "execution_count": 35,
     "metadata": {},
     "output_type": "execute_result"
    }
   ],
   "source": [
    "df[\"PERIOD\"].value_counts()"
   ]
  },
  {
   "cell_type": "markdown",
   "metadata": {},
   "source": [
    "##### AGE"
   ]
  },
  {
   "cell_type": "code",
   "execution_count": 36,
   "metadata": {},
   "outputs": [
    {
     "data": {
      "text/plain": [
       "count    11632.000000\n",
       "mean        54.794876\n",
       "std          9.564961\n",
       "min         32.000000\n",
       "25%         48.000000\n",
       "50%         54.000000\n",
       "75%         62.000000\n",
       "max         81.000000\n",
       "Name: AGE, dtype: float64"
      ]
     },
     "execution_count": 36,
     "metadata": {},
     "output_type": "execute_result"
    }
   ],
   "source": [
    "df[\"AGE\"].describe()"
   ]
  },
  {
   "cell_type": "markdown",
   "metadata": {},
   "source": [
    "##### SYSBP"
   ]
  },
  {
   "cell_type": "code",
   "execution_count": 37,
   "metadata": {},
   "outputs": [
    {
     "data": {
      "text/plain": [
       "count    11632.000000\n",
       "mean       136.323117\n",
       "std         22.796155\n",
       "min         83.500000\n",
       "25%        120.000000\n",
       "50%        132.000000\n",
       "75%        149.000000\n",
       "max        295.000000\n",
       "Name: SYSBP, dtype: float64"
      ]
     },
     "execution_count": 37,
     "metadata": {},
     "output_type": "execute_result"
    }
   ],
   "source": [
    "df[\"SYSBP\"].describe()"
   ]
  },
  {
   "cell_type": "markdown",
   "metadata": {},
   "source": [
    "##### DIABP"
   ]
  },
  {
   "cell_type": "code",
   "execution_count": 38,
   "metadata": {},
   "outputs": [
    {
     "data": {
      "text/plain": [
       "count    11632.000000\n",
       "mean        83.036752\n",
       "std         11.658630\n",
       "min         30.000000\n",
       "25%         75.000000\n",
       "50%         82.000000\n",
       "75%         90.000000\n",
       "max        150.000000\n",
       "Name: DIABP, dtype: float64"
      ]
     },
     "execution_count": 38,
     "metadata": {},
     "output_type": "execute_result"
    }
   ],
   "source": [
    "df[\"DIABP\"].describe()"
   ]
  },
  {
   "cell_type": "markdown",
   "metadata": {},
   "source": [
    "##### CURSMOKE"
   ]
  },
  {
   "cell_type": "code",
   "execution_count": 39,
   "metadata": {},
   "outputs": [
    {
     "data": {
      "text/plain": [
       "No     6603\n",
       "Yes    5029\n",
       "Name: CURSMOKE, dtype: int64"
      ]
     },
     "execution_count": 39,
     "metadata": {},
     "output_type": "execute_result"
    }
   ],
   "source": [
    "df[\"CURSMOKE\"].value_counts()"
   ]
  },
  {
   "cell_type": "markdown",
   "metadata": {},
   "source": [
    "##### DIABETES"
   ]
  },
  {
   "cell_type": "code",
   "execution_count": 41,
   "metadata": {},
   "outputs": [
    {
     "data": {
      "text/plain": [
       "No     11102\n",
       "Yes      530\n",
       "Name: DIABETES, dtype: int64"
      ]
     },
     "execution_count": 41,
     "metadata": {},
     "output_type": "execute_result"
    }
   ],
   "source": [
    "df[\"DIABETES\"].value_counts()"
   ]
  },
  {
   "cell_type": "markdown",
   "metadata": {},
   "source": [
    "##### PREVAP"
   ]
  },
  {
   "cell_type": "code",
   "execution_count": 42,
   "metadata": {},
   "outputs": [
    {
     "data": {
      "text/plain": [
       "0    11005\n",
       "1      627\n",
       "Name: PREVAP, dtype: int64"
      ]
     },
     "execution_count": 42,
     "metadata": {},
     "output_type": "execute_result"
    }
   ],
   "source": [
    "df[\"PREVAP\"].value_counts()"
   ]
  },
  {
   "cell_type": "markdown",
   "metadata": {},
   "source": [
    "##### PREVCHD"
   ]
  },
  {
   "cell_type": "code",
   "execution_count": 43,
   "metadata": {},
   "outputs": [
    {
     "data": {
      "text/plain": [
       "0    10790\n",
       "1      842\n",
       "Name: PREVCHD, dtype: int64"
      ]
     },
     "execution_count": 43,
     "metadata": {},
     "output_type": "execute_result"
    }
   ],
   "source": [
    "df[\"PREVCHD\"].value_counts()"
   ]
  },
  {
   "cell_type": "markdown",
   "metadata": {},
   "source": [
    "##### PREVMI"
   ]
  },
  {
   "cell_type": "code",
   "execution_count": 44,
   "metadata": {},
   "outputs": [
    {
     "data": {
      "text/plain": [
       "0    11258\n",
       "1      374\n",
       "Name: PREVMI, dtype: int64"
      ]
     },
     "execution_count": 44,
     "metadata": {},
     "output_type": "execute_result"
    }
   ],
   "source": [
    "df[\"PREVMI\"].value_counts()"
   ]
  },
  {
   "cell_type": "markdown",
   "metadata": {},
   "source": [
    "##### PREVSTRK"
   ]
  },
  {
   "cell_type": "code",
   "execution_count": 45,
   "metadata": {},
   "outputs": [
    {
     "data": {
      "text/plain": [
       "0    11480\n",
       "1      152\n",
       "Name: PREVSTRK, dtype: int64"
      ]
     },
     "execution_count": 45,
     "metadata": {},
     "output_type": "execute_result"
    }
   ],
   "source": [
    "df[\"PREVSTRK\"].value_counts()"
   ]
  },
  {
   "cell_type": "markdown",
   "metadata": {},
   "source": [
    "##### PREVHYP"
   ]
  },
  {
   "cell_type": "code",
   "execution_count": 46,
   "metadata": {},
   "outputs": [
    {
     "data": {
      "text/plain": [
       "0    6285\n",
       "1    5347\n",
       "Name: PREVHYP, dtype: int64"
      ]
     },
     "execution_count": 46,
     "metadata": {},
     "output_type": "execute_result"
    }
   ],
   "source": [
    "df[\"PREVHYP\"].value_counts()"
   ]
  },
  {
   "cell_type": "markdown",
   "metadata": {},
   "source": [
    "##### ANYCHD"
   ]
  },
  {
   "cell_type": "code",
   "execution_count": 47,
   "metadata": {},
   "outputs": [
    {
     "data": {
      "text/plain": [
       "No     8473\n",
       "Yes    3159\n",
       "Name: ANYCHD, dtype: int64"
      ]
     },
     "execution_count": 47,
     "metadata": {},
     "output_type": "execute_result"
    }
   ],
   "source": [
    "df[\"ANYCHD\"].value_counts()"
   ]
  },
  {
   "cell_type": "markdown",
   "metadata": {},
   "source": [
    "In the raw dataset, we were only able to find incomplete and inconsistent data. Hence, we need to modify some data to be nosiy and intentional disguised missing data."
   ]
  },
  {
   "cell_type": "markdown",
   "metadata": {},
   "source": [
    "### Modification"
   ]
  },
  {
   "cell_type": "markdown",
   "metadata": {},
   "source": [
    "Create a copy of dataframe for further modification."
   ]
  },
  {
   "cell_type": "code",
   "execution_count": 48,
   "metadata": {},
   "outputs": [],
   "source": [
    "df_mod = df.copy()"
   ]
  },
  {
   "cell_type": "markdown",
   "metadata": {},
   "source": [
    "#### Create intentional disguised missing data"
   ]
  },
  {
   "cell_type": "markdown",
   "metadata": {},
   "source": [
    "##### educ"
   ]
  },
  {
   "cell_type": "markdown",
   "metadata": {},
   "source": [
    "Before modification:"
   ]
  },
  {
   "cell_type": "code",
   "execution_count": 50,
   "metadata": {},
   "outputs": [
    {
     "data": {
      "text/plain": [
       "1.0    4694\n",
       "2.0    3410\n",
       "3.0    1886\n",
       "4.0    1347\n",
       "Name: educ, dtype: int64"
      ]
     },
     "execution_count": 50,
     "metadata": {},
     "output_type": "execute_result"
    }
   ],
   "source": [
    "df_mod[\"educ\"].value_counts()"
   ]
  },
  {
   "cell_type": "code",
   "execution_count": 51,
   "metadata": {},
   "outputs": [
    {
     "data": {
      "text/plain": [
       "295"
      ]
     },
     "execution_count": 51,
     "metadata": {},
     "output_type": "execute_result"
    }
   ],
   "source": [
    "df_mod[\"educ\"].isna().sum()"
   ]
  },
  {
   "cell_type": "markdown",
   "metadata": {},
   "source": [
    "Replace all missing value in `educ` with `0`."
   ]
  },
  {
   "cell_type": "code",
   "execution_count": 52,
   "metadata": {},
   "outputs": [],
   "source": [
    "df_mod[\"educ\"] = df_mod[\"educ\"].fillna(0)"
   ]
  },
  {
   "cell_type": "markdown",
   "metadata": {},
   "source": [
    "After modification:"
   ]
  },
  {
   "cell_type": "code",
   "execution_count": 54,
   "metadata": {},
   "outputs": [
    {
     "data": {
      "text/plain": [
       "1.0    4694\n",
       "2.0    3410\n",
       "3.0    1886\n",
       "4.0    1347\n",
       "0.0     295\n",
       "Name: educ, dtype: int64"
      ]
     },
     "execution_count": 54,
     "metadata": {},
     "output_type": "execute_result"
    }
   ],
   "source": [
    "df_mod[\"educ\"].value_counts()"
   ]
  },
  {
   "cell_type": "code",
   "execution_count": 55,
   "metadata": {},
   "outputs": [
    {
     "data": {
      "text/plain": [
       "0"
      ]
     },
     "execution_count": 55,
     "metadata": {},
     "output_type": "execute_result"
    }
   ],
   "source": [
    "df_mod[\"educ\"].isna().sum()"
   ]
  },
  {
   "cell_type": "markdown",
   "metadata": {},
   "source": [
    "#### Create noisy data"
   ]
  },
  {
   "cell_type": "markdown",
   "metadata": {},
   "source": [
    "##### AGE"
   ]
  },
  {
   "cell_type": "markdown",
   "metadata": {},
   "source": [
    "Check the total number of records."
   ]
  },
  {
   "cell_type": "code",
   "execution_count": 57,
   "metadata": {},
   "outputs": [
    {
     "data": {
      "text/plain": [
       "11632"
      ]
     },
     "execution_count": 57,
     "metadata": {},
     "output_type": "execute_result"
    }
   ],
   "source": [
    "len(df_mod)"
   ]
  },
  {
   "cell_type": "markdown",
   "metadata": {},
   "source": [
    "Create a list of random index from a sample size of approximately 1% of the total number of records."
   ]
  },
  {
   "cell_type": "code",
   "execution_count": 68,
   "metadata": {},
   "outputs": [
    {
     "data": {
      "text/plain": [
       "array([ 7270,   860,  5390,  5191, 11284,  5734,  6265,   466,  4426,\n",
       "        5578, 11363, 11111,  8322,  1685,   769, 10583,  6949,  2433,\n",
       "        5311,  5051,  6420,  1184,  4555,  3385,  6396, 11096,  8666,\n",
       "        9274,  2558,  7849,  2047,  2747,  9167,  9998,   189,  2734,\n",
       "        3005,  4658,  1899,  7734,  1267,  1528, 11394,  3556,  3890,\n",
       "        8838, 11080,  5393, 10627,  8792, 10555, 10253,  8433, 10233,\n",
       "       11016,  7513,  2612,  7041,  9555,  6235,  5486,  7099,  9670,\n",
       "       10748,   775,  8226,  3152, 10147,  1585,  3943,  7555,  3073,\n",
       "        1021, 10805,  3843,  7989,  9692,  6873,  5675,   161,  4297,\n",
       "       10173,   995, 11534,  7629,  9467,  1016,  7869,  6439,  7892,\n",
       "        6863,  7916,  8529,   878,  9268,  4887,  4859,  6331,  8571,\n",
       "        8684,  7208,  5276,  2062,    64,  8006,  2568,  5463,  2027,\n",
       "        2695,  9687,  5258,  5618,  6736,   391,  5892,  3561],\n",
       "      dtype=int64)"
      ]
     },
     "execution_count": 68,
     "metadata": {},
     "output_type": "execute_result"
    }
   ],
   "source": [
    "np.random.seed(42)\n",
    "random_sample_index = np.random.choice(df_mod.index, size=round((len(df_mod) * 0.01)))\n",
    "random_sample_index"
   ]
  },
  {
   "cell_type": "code",
   "execution_count": 69,
   "metadata": {},
   "outputs": [
    {
     "data": {
      "text/plain": [
       "116"
      ]
     },
     "execution_count": 69,
     "metadata": {},
     "output_type": "execute_result"
    }
   ],
   "source": [
    "len(random_sample_index)"
   ]
  },
  {
   "cell_type": "markdown",
   "metadata": {},
   "source": [
    "Before modification:"
   ]
  },
  {
   "cell_type": "code",
   "execution_count": 75,
   "metadata": {},
   "outputs": [
    {
     "data": {
      "text/plain": [
       "count    11632.000000\n",
       "mean        54.794876\n",
       "std          9.564961\n",
       "min         32.000000\n",
       "25%         48.000000\n",
       "50%         54.000000\n",
       "75%         62.000000\n",
       "max         81.000000\n",
       "Name: AGE, dtype: float64"
      ]
     },
     "execution_count": 75,
     "metadata": {},
     "output_type": "execute_result"
    }
   ],
   "source": [
    "df_mod[\"AGE\"].describe()"
   ]
  },
  {
   "cell_type": "markdown",
   "metadata": {},
   "source": [
    "Modify value in `AGE` column that matches the random sample index to `-1`."
   ]
  },
  {
   "cell_type": "code",
   "execution_count": 76,
   "metadata": {},
   "outputs": [],
   "source": [
    "df_mod.loc[random_sample_index, \"AGE\"] = -1"
   ]
  },
  {
   "cell_type": "markdown",
   "metadata": {},
   "source": [
    "After modification:"
   ]
  },
  {
   "cell_type": "code",
   "execution_count": 77,
   "metadata": {},
   "outputs": [
    {
     "data": {
      "text/plain": [
       "count    11632.000000\n",
       "mean        54.249484\n",
       "std         11.022476\n",
       "min         -1.000000\n",
       "25%         47.000000\n",
       "50%         54.000000\n",
       "75%         62.000000\n",
       "max         81.000000\n",
       "Name: AGE, dtype: float64"
      ]
     },
     "execution_count": 77,
     "metadata": {},
     "output_type": "execute_result"
    }
   ],
   "source": [
    "df_mod[\"AGE\"].describe()"
   ]
  },
  {
   "cell_type": "code",
   "execution_count": 78,
   "metadata": {},
   "outputs": [
    {
     "data": {
      "text/plain": [
       "116"
      ]
     },
     "execution_count": 78,
     "metadata": {},
     "output_type": "execute_result"
    }
   ],
   "source": [
    "len(df_mod[df_mod[\"AGE\"] == -1])"
   ]
  },
  {
   "cell_type": "markdown",
   "metadata": {},
   "source": [
    "### Subset"
   ]
  },
  {
   "cell_type": "markdown",
   "metadata": {},
   "source": [
    "We need a small sample of size 50 for correlation analysis during mid term test."
   ]
  },
  {
   "cell_type": "markdown",
   "metadata": {},
   "source": [
    "Create a copy of the modified dataframe for further subsetting."
   ]
  },
  {
   "cell_type": "code",
   "execution_count": 79,
   "metadata": {},
   "outputs": [],
   "source": [
    "df_50 = df_mod.copy()"
   ]
  },
  {
   "cell_type": "markdown",
   "metadata": {},
   "source": [
    "Exclude all missing values."
   ]
  },
  {
   "cell_type": "code",
   "execution_count": 80,
   "metadata": {},
   "outputs": [
    {
     "data": {
      "text/plain": [
       "RANDID      0\n",
       "SEX         0\n",
       "TOTCHOL     0\n",
       "AGE         0\n",
       "SYSBP       0\n",
       "DIABP       0\n",
       "CURSMOKE    0\n",
       "CIGPDAY     0\n",
       "BMI         0\n",
       "DIABETES    0\n",
       "BPMEDS      0\n",
       "HEARTRTE    0\n",
       "GLUCOSE     0\n",
       "educ        0\n",
       "PREVCHD     0\n",
       "PREVAP      0\n",
       "PREVMI      0\n",
       "PREVSTRK    0\n",
       "PREVHYP     0\n",
       "TIME        0\n",
       "PERIOD      0\n",
       "HDLC        0\n",
       "LDLC        0\n",
       "DEATH       0\n",
       "ANGINA      0\n",
       "HOSPMI      0\n",
       "MI_FCHD     0\n",
       "ANYCHD      0\n",
       "STROKE      0\n",
       "CVD         0\n",
       "HYPERTEN    0\n",
       "TIMEAP      0\n",
       "TIMEMI      0\n",
       "TIMEMIFC    0\n",
       "TIMECHD     0\n",
       "TIMESTRK    0\n",
       "TIMECVD     0\n",
       "TIMEDTH     0\n",
       "TIMEHYP     0\n",
       "dtype: int64"
      ]
     },
     "execution_count": 80,
     "metadata": {},
     "output_type": "execute_result"
    }
   ],
   "source": [
    "df_50 = df_50.dropna()\n",
    "df_50.isna().sum()"
   ]
  },
  {
   "cell_type": "markdown",
   "metadata": {},
   "source": [
    "Exclude all modified values."
   ]
  },
  {
   "cell_type": "code",
   "execution_count": 81,
   "metadata": {},
   "outputs": [],
   "source": [
    "df_50 = df_50[(df_50[\"educ\"] != 0) & (df_50[\"AGE\"] != -1)]"
   ]
  },
  {
   "cell_type": "code",
   "execution_count": 82,
   "metadata": {},
   "outputs": [
    {
     "data": {
      "text/plain": [
       "1.0    837\n",
       "2.0    696\n",
       "3.0    389\n",
       "4.0    296\n",
       "Name: educ, dtype: int64"
      ]
     },
     "execution_count": 82,
     "metadata": {},
     "output_type": "execute_result"
    }
   ],
   "source": [
    "df_50[\"educ\"].value_counts()"
   ]
  },
  {
   "cell_type": "code",
   "execution_count": 83,
   "metadata": {},
   "outputs": [
    {
     "data": {
      "text/plain": [
       "count    2218.000000\n",
       "mean       60.188909\n",
       "std         8.306321\n",
       "min        44.000000\n",
       "25%        53.000000\n",
       "50%        59.000000\n",
       "75%        67.000000\n",
       "max        81.000000\n",
       "Name: AGE, dtype: float64"
      ]
     },
     "execution_count": 83,
     "metadata": {},
     "output_type": "execute_result"
    }
   ],
   "source": [
    "df_50[\"AGE\"].describe()"
   ]
  },
  {
   "cell_type": "markdown",
   "metadata": {},
   "source": [
    "Create a subset from the dataframe."
   ]
  },
  {
   "cell_type": "code",
   "execution_count": 88,
   "metadata": {},
   "outputs": [
    {
     "data": {
      "text/plain": [
       "50"
      ]
     },
     "execution_count": 88,
     "metadata": {},
     "output_type": "execute_result"
    }
   ],
   "source": [
    "df_50 = df_50.sample(50, random_state=42)\n",
    "len(df_50)"
   ]
  },
  {
   "cell_type": "markdown",
   "metadata": {},
   "source": [
    "### Exports"
   ]
  },
  {
   "cell_type": "code",
   "execution_count": 89,
   "metadata": {},
   "outputs": [],
   "source": [
    "df_mod.to_csv(\"./data/frmgham2_dirty_modified.csv\", index=False)\n",
    "df_50.to_csv(\"./data/frmgham2_sample_50.csv\", index=False)"
   ]
  },
  {
   "cell_type": "markdown",
   "metadata": {},
   "source": [
    "### Summary"
   ]
  },
  {
   "cell_type": "markdown",
   "metadata": {},
   "source": [
    "* `frmgham2_dirty.csv` - original dataset\n",
    "* `frmgham2_dirty_modified.csv` - modified dataset (`educ` & `AGE` column modified)\n",
    "* `frmgham2_sample_50.csv` - dataset of sample size 50 without any data quality issues"
   ]
  },
  {
   "cell_type": "markdown",
   "metadata": {},
   "source": []
  }
 ],
 "metadata": {
  "interpreter": {
   "hash": "85da4e5205487ecb6868a24591832e66a7808f792e4d3f5382a2652185bc6729"
  },
  "kernelspec": {
   "display_name": "Python 3.9.7 ('base')",
   "language": "python",
   "name": "python3"
  },
  "language_info": {
   "codemirror_mode": {
    "name": "ipython",
    "version": 3
   },
   "file_extension": ".py",
   "mimetype": "text/x-python",
   "name": "python",
   "nbconvert_exporter": "python",
   "pygments_lexer": "ipython3",
   "version": "3.9.7"
  },
  "orig_nbformat": 4
 },
 "nbformat": 4,
 "nbformat_minor": 2
}
