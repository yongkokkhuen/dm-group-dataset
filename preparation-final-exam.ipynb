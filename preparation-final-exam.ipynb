{
 "cells": [
  {
   "cell_type": "markdown",
   "metadata": {},
   "source": [
    "### Imports"
   ]
  },
  {
   "cell_type": "code",
   "execution_count": 55,
   "metadata": {},
   "outputs": [],
   "source": [
    "import pandas as pd"
   ]
  },
  {
   "cell_type": "code",
   "execution_count": 56,
   "metadata": {},
   "outputs": [
    {
     "data": {
      "text/html": [
       "<div>\n",
       "<style scoped>\n",
       "    .dataframe tbody tr th:only-of-type {\n",
       "        vertical-align: middle;\n",
       "    }\n",
       "\n",
       "    .dataframe tbody tr th {\n",
       "        vertical-align: top;\n",
       "    }\n",
       "\n",
       "    .dataframe thead th {\n",
       "        text-align: right;\n",
       "    }\n",
       "</style>\n",
       "<table border=\"1\" class=\"dataframe\">\n",
       "  <thead>\n",
       "    <tr style=\"text-align: right;\">\n",
       "      <th></th>\n",
       "      <th>RANDID</th>\n",
       "      <th>SEX</th>\n",
       "      <th>TOTCHOL</th>\n",
       "      <th>AGE</th>\n",
       "      <th>SYSBP</th>\n",
       "      <th>DIABP</th>\n",
       "      <th>CURSMOKE</th>\n",
       "      <th>CIGPDAY</th>\n",
       "      <th>BMI</th>\n",
       "      <th>DIABETES</th>\n",
       "      <th>...</th>\n",
       "      <th>CVD</th>\n",
       "      <th>HYPERTEN</th>\n",
       "      <th>TIMEAP</th>\n",
       "      <th>TIMEMI</th>\n",
       "      <th>TIMEMIFC</th>\n",
       "      <th>TIMECHD</th>\n",
       "      <th>TIMESTRK</th>\n",
       "      <th>TIMECVD</th>\n",
       "      <th>TIMEDTH</th>\n",
       "      <th>TIMEHYP</th>\n",
       "    </tr>\n",
       "  </thead>\n",
       "  <tbody>\n",
       "    <tr>\n",
       "      <th>0</th>\n",
       "      <td>2448</td>\n",
       "      <td>1</td>\n",
       "      <td>195.0</td>\n",
       "      <td>39</td>\n",
       "      <td>106.0</td>\n",
       "      <td>70.0</td>\n",
       "      <td>No</td>\n",
       "      <td>0.0</td>\n",
       "      <td>26.97</td>\n",
       "      <td>No</td>\n",
       "      <td>...</td>\n",
       "      <td>1</td>\n",
       "      <td>0</td>\n",
       "      <td>8766</td>\n",
       "      <td>6438</td>\n",
       "      <td>6438</td>\n",
       "      <td>6438</td>\n",
       "      <td>8766</td>\n",
       "      <td>6438</td>\n",
       "      <td>8766</td>\n",
       "      <td>8766</td>\n",
       "    </tr>\n",
       "    <tr>\n",
       "      <th>1</th>\n",
       "      <td>2448</td>\n",
       "      <td>1</td>\n",
       "      <td>209.0</td>\n",
       "      <td>52</td>\n",
       "      <td>121.0</td>\n",
       "      <td>66.0</td>\n",
       "      <td>No</td>\n",
       "      <td>0.0</td>\n",
       "      <td>NaN</td>\n",
       "      <td>No</td>\n",
       "      <td>...</td>\n",
       "      <td>1</td>\n",
       "      <td>0</td>\n",
       "      <td>8766</td>\n",
       "      <td>6438</td>\n",
       "      <td>6438</td>\n",
       "      <td>6438</td>\n",
       "      <td>8766</td>\n",
       "      <td>6438</td>\n",
       "      <td>8766</td>\n",
       "      <td>8766</td>\n",
       "    </tr>\n",
       "    <tr>\n",
       "      <th>2</th>\n",
       "      <td>6238</td>\n",
       "      <td>2</td>\n",
       "      <td>250.0</td>\n",
       "      <td>46</td>\n",
       "      <td>121.0</td>\n",
       "      <td>81.0</td>\n",
       "      <td>No</td>\n",
       "      <td>0.0</td>\n",
       "      <td>28.73</td>\n",
       "      <td>No</td>\n",
       "      <td>...</td>\n",
       "      <td>0</td>\n",
       "      <td>0</td>\n",
       "      <td>8766</td>\n",
       "      <td>8766</td>\n",
       "      <td>8766</td>\n",
       "      <td>8766</td>\n",
       "      <td>8766</td>\n",
       "      <td>8766</td>\n",
       "      <td>8766</td>\n",
       "      <td>8766</td>\n",
       "    </tr>\n",
       "    <tr>\n",
       "      <th>3</th>\n",
       "      <td>6238</td>\n",
       "      <td>2</td>\n",
       "      <td>260.0</td>\n",
       "      <td>52</td>\n",
       "      <td>105.0</td>\n",
       "      <td>69.5</td>\n",
       "      <td>No</td>\n",
       "      <td>0.0</td>\n",
       "      <td>29.43</td>\n",
       "      <td>No</td>\n",
       "      <td>...</td>\n",
       "      <td>0</td>\n",
       "      <td>0</td>\n",
       "      <td>8766</td>\n",
       "      <td>8766</td>\n",
       "      <td>8766</td>\n",
       "      <td>8766</td>\n",
       "      <td>8766</td>\n",
       "      <td>8766</td>\n",
       "      <td>8766</td>\n",
       "      <td>8766</td>\n",
       "    </tr>\n",
       "    <tr>\n",
       "      <th>4</th>\n",
       "      <td>6238</td>\n",
       "      <td>2</td>\n",
       "      <td>237.0</td>\n",
       "      <td>58</td>\n",
       "      <td>108.0</td>\n",
       "      <td>66.0</td>\n",
       "      <td>No</td>\n",
       "      <td>0.0</td>\n",
       "      <td>28.50</td>\n",
       "      <td>No</td>\n",
       "      <td>...</td>\n",
       "      <td>0</td>\n",
       "      <td>0</td>\n",
       "      <td>8766</td>\n",
       "      <td>8766</td>\n",
       "      <td>8766</td>\n",
       "      <td>8766</td>\n",
       "      <td>8766</td>\n",
       "      <td>8766</td>\n",
       "      <td>8766</td>\n",
       "      <td>8766</td>\n",
       "    </tr>\n",
       "  </tbody>\n",
       "</table>\n",
       "<p>5 rows × 39 columns</p>\n",
       "</div>"
      ],
      "text/plain": [
       "   RANDID SEX  TOTCHOL  AGE  SYSBP  DIABP CURSMOKE  CIGPDAY    BMI DIABETES  \\\n",
       "0    2448   1    195.0   39  106.0   70.0       No      0.0  26.97       No   \n",
       "1    2448   1    209.0   52  121.0   66.0       No      0.0    NaN       No   \n",
       "2    6238   2    250.0   46  121.0   81.0       No      0.0  28.73       No   \n",
       "3    6238   2    260.0   52  105.0   69.5       No      0.0  29.43       No   \n",
       "4    6238   2    237.0   58  108.0   66.0       No      0.0  28.50       No   \n",
       "\n",
       "   ...  CVD  HYPERTEN  TIMEAP  TIMEMI  TIMEMIFC  TIMECHD  TIMESTRK  TIMECVD  \\\n",
       "0  ...    1         0    8766    6438      6438     6438      8766     6438   \n",
       "1  ...    1         0    8766    6438      6438     6438      8766     6438   \n",
       "2  ...    0         0    8766    8766      8766     8766      8766     8766   \n",
       "3  ...    0         0    8766    8766      8766     8766      8766     8766   \n",
       "4  ...    0         0    8766    8766      8766     8766      8766     8766   \n",
       "\n",
       "   TIMEDTH  TIMEHYP  \n",
       "0     8766     8766  \n",
       "1     8766     8766  \n",
       "2     8766     8766  \n",
       "3     8766     8766  \n",
       "4     8766     8766  \n",
       "\n",
       "[5 rows x 39 columns]"
      ]
     },
     "execution_count": 56,
     "metadata": {},
     "output_type": "execute_result"
    }
   ],
   "source": [
    "df = pd.read_csv(\"./data/frmgham2_dirty_modified.csv\")\n",
    "df.head()"
   ]
  },
  {
   "cell_type": "markdown",
   "metadata": {},
   "source": [
    "### Modification"
   ]
  },
  {
   "cell_type": "markdown",
   "metadata": {},
   "source": [
    "Make a clean copy."
   ]
  },
  {
   "cell_type": "code",
   "execution_count": 57,
   "metadata": {},
   "outputs": [
    {
     "name": "stdout",
     "output_type": "stream",
     "text": [
      "<class 'pandas.core.frame.DataFrame'>\n",
      "Int64Index: 11224 entries, 0 to 11631\n",
      "Data columns (total 39 columns):\n",
      " #   Column    Non-Null Count  Dtype  \n",
      "---  ------    --------------  -----  \n",
      " 0   RANDID    11224 non-null  int64  \n",
      " 1   SEX       11224 non-null  object \n",
      " 2   TOTCHOL   10834 non-null  float64\n",
      " 3   AGE       11224 non-null  int64  \n",
      " 4   SYSBP     11224 non-null  float64\n",
      " 5   DIABP     11224 non-null  float64\n",
      " 6   CURSMOKE  11224 non-null  object \n",
      " 7   CIGPDAY   11151 non-null  float64\n",
      " 8   BMI       11174 non-null  float64\n",
      " 9   DIABETES  11224 non-null  object \n",
      " 10  BPMEDS    10644 non-null  float64\n",
      " 11  HEARTRTE  11218 non-null  float64\n",
      " 12  GLUCOSE   9822 non-null   float64\n",
      " 13  educ      11224 non-null  float64\n",
      " 14  PREVCHD   11224 non-null  int64  \n",
      " 15  PREVAP    11224 non-null  int64  \n",
      " 16  PREVMI    11224 non-null  int64  \n",
      " 17  PREVSTRK  11224 non-null  int64  \n",
      " 18  PREVHYP   11224 non-null  int64  \n",
      " 19  TIME      11224 non-null  int64  \n",
      " 20  PERIOD    11224 non-null  int64  \n",
      " 21  HDLC      2927 non-null   float64\n",
      " 22  LDLC      2926 non-null   float64\n",
      " 23  DEATH     11224 non-null  int64  \n",
      " 24  ANGINA    11224 non-null  int64  \n",
      " 25  HOSPMI    11224 non-null  int64  \n",
      " 26  MI_FCHD   11224 non-null  int64  \n",
      " 27  ANYCHD    11224 non-null  object \n",
      " 28  STROKE    11224 non-null  int64  \n",
      " 29  CVD       11224 non-null  int64  \n",
      " 30  HYPERTEN  11224 non-null  int64  \n",
      " 31  TIMEAP    11224 non-null  int64  \n",
      " 32  TIMEMI    11224 non-null  int64  \n",
      " 33  TIMEMIFC  11224 non-null  int64  \n",
      " 34  TIMECHD   11224 non-null  int64  \n",
      " 35  TIMESTRK  11224 non-null  int64  \n",
      " 36  TIMECVD   11224 non-null  int64  \n",
      " 37  TIMEDTH   11224 non-null  int64  \n",
      " 38  TIMEHYP   11224 non-null  int64  \n",
      "dtypes: float64(11), int64(24), object(4)\n",
      "memory usage: 3.4+ MB\n"
     ]
    }
   ],
   "source": [
    "df_no_missing = df.copy()\n",
    "df_no_missingn = df_no_missing.dropna()\n",
    "df_no_missing = df_no_missing[(df_no_missing[\"educ\"] != 0) & (df_no_missing[\"AGE\"] != -1)]\n",
    "df_no_missing.info()"
   ]
  },
  {
   "cell_type": "markdown",
   "metadata": {},
   "source": [
    "#### Preparation For Association Rules"
   ]
  },
  {
   "cell_type": "code",
   "execution_count": 58,
   "metadata": {},
   "outputs": [
    {
     "name": "stdout",
     "output_type": "stream",
     "text": [
      "<class 'pandas.core.frame.DataFrame'>\n",
      "Int64Index: 11224 entries, 0 to 11631\n",
      "Data columns (total 6 columns):\n",
      " #   Column    Non-Null Count  Dtype \n",
      "---  ------    --------------  ----- \n",
      " 0   RANDID    11224 non-null  int64 \n",
      " 1   PERIOD    11224 non-null  int64 \n",
      " 2   DIABETES  11224 non-null  object\n",
      " 3   STROKE    11224 non-null  int64 \n",
      " 4   HYPERTEN  11224 non-null  int64 \n",
      " 5   ANYCHD    11224 non-null  object\n",
      "dtypes: int64(4), object(2)\n",
      "memory usage: 613.8+ KB\n"
     ]
    }
   ],
   "source": [
    "df_ar = df_no_missing.copy()\n",
    "df_ar = df_ar[[\"RANDID\", \"PERIOD\", \"DIABETES\", \"STROKE\", \"HYPERTEN\", \"ANYCHD\"]]\n",
    "df_ar.info()"
   ]
  },
  {
   "cell_type": "code",
   "execution_count": 59,
   "metadata": {},
   "outputs": [
    {
     "data": {
      "text/html": [
       "<div>\n",
       "<style scoped>\n",
       "    .dataframe tbody tr th:only-of-type {\n",
       "        vertical-align: middle;\n",
       "    }\n",
       "\n",
       "    .dataframe tbody tr th {\n",
       "        vertical-align: top;\n",
       "    }\n",
       "\n",
       "    .dataframe thead th {\n",
       "        text-align: right;\n",
       "    }\n",
       "</style>\n",
       "<table border=\"1\" class=\"dataframe\">\n",
       "  <thead>\n",
       "    <tr style=\"text-align: right;\">\n",
       "      <th></th>\n",
       "      <th>RANDID</th>\n",
       "      <th>DIABETES</th>\n",
       "      <th>STROKE</th>\n",
       "      <th>HYPERTEN</th>\n",
       "      <th>ANYCHD</th>\n",
       "    </tr>\n",
       "  </thead>\n",
       "  <tbody>\n",
       "    <tr>\n",
       "      <th>1</th>\n",
       "      <td>2448</td>\n",
       "      <td>No</td>\n",
       "      <td>0</td>\n",
       "      <td>0</td>\n",
       "      <td>Yes</td>\n",
       "    </tr>\n",
       "    <tr>\n",
       "      <th>4</th>\n",
       "      <td>6238</td>\n",
       "      <td>No</td>\n",
       "      <td>0</td>\n",
       "      <td>0</td>\n",
       "      <td>No</td>\n",
       "    </tr>\n",
       "    <tr>\n",
       "      <th>11</th>\n",
       "      <td>11252</td>\n",
       "      <td>No</td>\n",
       "      <td>0</td>\n",
       "      <td>1</td>\n",
       "      <td>No</td>\n",
       "    </tr>\n",
       "    <tr>\n",
       "      <th>14</th>\n",
       "      <td>11263</td>\n",
       "      <td>Yes</td>\n",
       "      <td>0</td>\n",
       "      <td>1</td>\n",
       "      <td>Yes</td>\n",
       "    </tr>\n",
       "    <tr>\n",
       "      <th>19</th>\n",
       "      <td>12806</td>\n",
       "      <td>No</td>\n",
       "      <td>0</td>\n",
       "      <td>1</td>\n",
       "      <td>No</td>\n",
       "    </tr>\n",
       "  </tbody>\n",
       "</table>\n",
       "</div>"
      ],
      "text/plain": [
       "    RANDID DIABETES  STROKE  HYPERTEN ANYCHD\n",
       "1     2448       No       0         0    Yes\n",
       "4     6238       No       0         0     No\n",
       "11   11252       No       0         1     No\n",
       "14   11263      Yes       0         1    Yes\n",
       "19   12806       No       0         1     No"
      ]
     },
     "execution_count": 59,
     "metadata": {},
     "output_type": "execute_result"
    }
   ],
   "source": [
    "df_ar = df_ar[df_ar[\"PERIOD\"] == 3]\n",
    "df_ar = df_ar.drop(\"PERIOD\", axis = 1)\n",
    "df_ar.head()"
   ]
  },
  {
   "cell_type": "code",
   "execution_count": 60,
   "metadata": {},
   "outputs": [],
   "source": [
    "def create_transactions(random_seed):\n",
    "  df_50 = df_ar.sample(50, random_state=random_seed)\n",
    "\n",
    "  df_ar_trans = pd.DataFrame()\n",
    "\n",
    "  for index, data in df_50.iterrows():\n",
    "    if data[\"DIABETES\"] == \"Yes\":\n",
    "      df_ar_trans = pd.concat([df_ar_trans, pd.DataFrame({ \"RANDID\": [data[\"RANDID\"]], \"Condition\": [\"DIABETES\"] })])\n",
    "    if data[\"STROKE\"] == 1:\n",
    "      df_ar_trans = pd.concat([df_ar_trans, pd.DataFrame({ \"RANDID\": [data[\"RANDID\"]], \"Condition\": [\"STROKE\"] })])\n",
    "    if data[\"HYPERTEN\"] == 1:\n",
    "      df_ar_trans = pd.concat([df_ar_trans, pd.DataFrame({ \"RANDID\": [data[\"RANDID\"]], \"Condition\": [\"HYPERTEN\"] })])\n",
    "    if data[\"ANYCHD\"] == \"Yes\":\n",
    "      df_ar_trans = pd.concat([df_ar_trans, pd.DataFrame({ \"RANDID\": [data[\"RANDID\"]], \"Condition\": [\"ANYCHD\"] })])\n",
    "\n",
    "  df_ar_trans = df_ar_trans.reset_index(drop=True)\n",
    "\n",
    "  return df_50, df_ar_trans"
   ]
  },
  {
   "cell_type": "code",
   "execution_count": 61,
   "metadata": {},
   "outputs": [],
   "source": [
    "df_ar_sample_a, df_ar_trans_sample_a = create_transactions(43)"
   ]
  },
  {
   "cell_type": "code",
   "execution_count": 62,
   "metadata": {},
   "outputs": [],
   "source": [
    "df_ar_sample_b, df_ar_trans_sample_b = create_transactions(52)"
   ]
  },
  {
   "cell_type": "code",
   "execution_count": 63,
   "metadata": {},
   "outputs": [],
   "source": [
    "df_ar_sample_c, df_ar_trans_sample_c = create_transactions(64)"
   ]
  },
  {
   "cell_type": "code",
   "execution_count": 64,
   "metadata": {},
   "outputs": [],
   "source": [
    "df_ar_sample_d, df_ar_trans_sample_d = create_transactions(72)"
   ]
  },
  {
   "cell_type": "markdown",
   "metadata": {},
   "source": [
    "### Exports"
   ]
  },
  {
   "cell_type": "code",
   "execution_count": 65,
   "metadata": {},
   "outputs": [],
   "source": [
    "df_ar_sample_a.to_csv(\"./data/frmgham2_ar_sample_a.csv\", index=False)"
   ]
  },
  {
   "cell_type": "code",
   "execution_count": 66,
   "metadata": {},
   "outputs": [],
   "source": [
    "df_ar_sample_b.to_csv(\"./data/frmgham2_ar_sample_b.csv\", index=False)"
   ]
  },
  {
   "cell_type": "code",
   "execution_count": 67,
   "metadata": {},
   "outputs": [],
   "source": [
    "df_ar_sample_c.to_csv(\"./data/frmgham2_ar_sample_c.csv\", index=False)"
   ]
  },
  {
   "cell_type": "code",
   "execution_count": 68,
   "metadata": {},
   "outputs": [],
   "source": [
    "df_ar_sample_d.to_csv(\"./data/frmgham2_ar_sample_d.csv\", index=False)"
   ]
  },
  {
   "cell_type": "code",
   "execution_count": 69,
   "metadata": {},
   "outputs": [],
   "source": [
    "df_ar_trans_sample_a.to_csv(\"./data/frmgham2_ar_trans_sample_a.csv\", index=False)"
   ]
  },
  {
   "cell_type": "code",
   "execution_count": 70,
   "metadata": {},
   "outputs": [],
   "source": [
    "df_ar_trans_sample_b.to_csv(\"./data/frmgham2_ar_trans_sample_b.csv\", index=False)"
   ]
  },
  {
   "cell_type": "code",
   "execution_count": 71,
   "metadata": {},
   "outputs": [],
   "source": [
    "df_ar_trans_sample_c.to_csv(\"./data/frmgham2_ar_trans_sample_c.csv\", index=False)"
   ]
  },
  {
   "cell_type": "code",
   "execution_count": 72,
   "metadata": {},
   "outputs": [],
   "source": [
    "df_ar_trans_sample_d.to_csv(\"./data/frmgham2_ar_trans_sample_d.csv\", index=False)"
   ]
  }
 ],
 "metadata": {
  "kernelspec": {
   "display_name": "Python 3.9.7 ('base')",
   "language": "python",
   "name": "python3"
  },
  "language_info": {
   "codemirror_mode": {
    "name": "ipython",
    "version": 3
   },
   "file_extension": ".py",
   "mimetype": "text/x-python",
   "name": "python",
   "nbconvert_exporter": "python",
   "pygments_lexer": "ipython3",
   "version": "3.9.7"
  },
  "orig_nbformat": 4,
  "vscode": {
   "interpreter": {
    "hash": "755c9835afe6b3c752991f2e0bee94041b633b03b770e3a9a9f3b624e618007c"
   }
  }
 },
 "nbformat": 4,
 "nbformat_minor": 2
}
